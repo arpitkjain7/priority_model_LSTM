{
 "cells": [
  {
   "cell_type": "code",
   "execution_count": 220,
   "metadata": {},
   "outputs": [],
   "source": [
    "import tensorflow as tf\n",
    "from tensorflow.keras.layers import Input, Dense, LSTM, GlobalMaxPooling1D, Embedding, Bidirectional\n",
    "from tensorflow.keras.preprocessing.text import Tokenizer\n",
    "from tensorflow.keras.optimizers import Adam\n",
    "from tensorflow.keras.preprocessing.sequence import pad_sequences\n",
    "from sklearn.model_selection import train_test_split\n",
    "from tensorflow.keras.models import Model\n",
    "import numpy as np\n",
    "import pandas as pd\n",
    "import matplotlib.pyplot as plt\n",
    "from preprocess_text import remove_punctuations"
   ]
  },
  {
   "cell_type": "code",
   "execution_count": 221,
   "metadata": {},
   "outputs": [
    {
     "name": "stdout",
     "output_type": "stream",
     "text": [
      "(38,)\n",
      "(38,)\n"
     ]
    }
   ],
   "source": [
    "# Load Dataset and reemove punctuations\n",
    "data = pd.read_csv(\"data/orig_key_updated.csv\")\n",
    "df = remove_punctuations(data[\"Data\"].values)\n",
    "x_train, x_test, y_train, y_test = train_test_split(\n",
    "    df, data[\"Label\"], test_size=0.33)\n",
    "print(x_train.shape)\n",
    "print(y_train.shape)"
   ]
  },
  {
   "cell_type": "code",
   "execution_count": 217,
   "metadata": {},
   "outputs": [],
   "source": [
    "VOCAB_LENGTH = 20000\n",
    "tokenizer = Tokenizer(num_words=VOCAB_LENGTH,oov_token=\"UNK\")\n",
    "tokenizer.fit_on_texts(x_train)\n",
    "sequence_train = tokenizer.texts_to_sequences(x_train)\n",
    "#print(sequence_train)\n",
    "sequence_test = tokenizer.texts_to_sequences(x_test)\n",
    "#print(sequence_test)"
   ]
  },
  {
   "cell_type": "code",
   "execution_count": null,
   "metadata": {},
   "outputs": [],
   "source": [
    "label_tokenizer = Tokenizer()"
   ]
  },
  {
   "cell_type": "code",
   "execution_count": 200,
   "metadata": {},
   "outputs": [
    {
     "name": "stdout",
     "output_type": "stream",
     "text": [
      "{'UNK': 1, 'amount': 2, 'total': 3, 'invoice': 4, 'number': 5, 'date': 6, 'due': 7, 'this': 8, 'order': 9, 'customer': 10, 'no': 11, '01052006': 12, 'pay': 13, 'purchase': 14, 'gross': 15, 'sub': 16, 'account': 17, 'less': 18, 'by': 19, 'after': 20, 'net': 21, 'payments': 22, 'start': 23, 'dube': 24, 'subtotal': 25, 'fips': 26, 'vendorname': 27, 'cajun': 28, 'employee': 29, 'po': 30, '1': 31, 'original': 32, 'contract': 33, 'work': 34, 'completed': 35, 'to': 36, '8': 37, 'retained': 38, 'column': 39, 'i': 40, 'obligated': 41, 'week': 42, 'ending': 43, 'acgouni': 44, 'dde': 45, 'task': 46, 'phase': 47, 'lavoice': 48, 'now': 49, 'please': 50, 'lease': 51, '11': 52, 'of': 53, 'application': 54, '7': 55, '4': 56, '5': 57, '6': 58, 'change': 59, 'orders': 60, 'routing': 61, '9': 62, 'retainage': 63, 's': 64}\n",
      "64\n"
     ]
    }
   ],
   "source": [
    "word2idx = tokenizer.word_index\n",
    "print(word2idx)\n",
    "V = len(word2idx)\n",
    "print(V)"
   ]
  },
  {
   "cell_type": "code",
   "execution_count": 201,
   "metadata": {},
   "outputs": [
    {
     "name": "stdout",
     "output_type": "stream",
     "text": [
      "max length is : 16\n"
     ]
    }
   ],
   "source": [
    "x_train = pad_sequences(sequence_train, padding='post')\n",
    "T = x_train.shape[1]\n",
    "print(f\"max length is : {T}\")\n",
    "x_test = pad_sequences(sequence_test, padding='post',maxlen=T)"
   ]
  },
  {
   "cell_type": "code",
   "execution_count": null,
   "metadata": {},
   "outputs": [],
   "source": []
  },
  {
   "cell_type": "code",
   "execution_count": 202,
   "metadata": {},
   "outputs": [
    {
     "name": "stdout",
     "output_type": "stream",
     "text": [
      "Epoch 1/100\n",
      "2/2 [==============================] - 0s 244ms/step - loss: 0.6938 - accuracy: 0.5000 - val_loss: 0.6919 - val_accuracy: 0.5000\n",
      "Epoch 2/100\n",
      "2/2 [==============================] - 0s 13ms/step - loss: 0.6920 - accuracy: 0.5263 - val_loss: 0.6906 - val_accuracy: 0.5000\n",
      "Epoch 3/100\n",
      "2/2 [==============================] - 0s 14ms/step - loss: 0.6899 - accuracy: 0.5000 - val_loss: 0.6890 - val_accuracy: 0.5000\n",
      "Epoch 4/100\n",
      "2/2 [==============================] - 0s 13ms/step - loss: 0.6884 - accuracy: 0.5000 - val_loss: 0.6874 - val_accuracy: 0.5000\n",
      "Epoch 5/100\n",
      "2/2 [==============================] - 0s 12ms/step - loss: 0.6879 - accuracy: 0.5000 - val_loss: 0.6859 - val_accuracy: 0.5000\n",
      "Epoch 6/100\n",
      "2/2 [==============================] - 0s 13ms/step - loss: 0.6856 - accuracy: 0.5000 - val_loss: 0.6840 - val_accuracy: 0.5000\n",
      "Epoch 7/100\n",
      "2/2 [==============================] - 0s 13ms/step - loss: 0.6829 - accuracy: 0.5000 - val_loss: 0.6816 - val_accuracy: 0.5000\n",
      "Epoch 8/100\n",
      "2/2 [==============================] - 0s 14ms/step - loss: 0.6799 - accuracy: 0.5000 - val_loss: 0.6785 - val_accuracy: 0.5000\n",
      "Epoch 9/100\n",
      "2/2 [==============================] - 0s 14ms/step - loss: 0.6763 - accuracy: 0.5000 - val_loss: 0.6748 - val_accuracy: 0.5000\n",
      "Epoch 10/100\n",
      "2/2 [==============================] - 0s 12ms/step - loss: 0.6716 - accuracy: 0.5000 - val_loss: 0.6698 - val_accuracy: 0.5000\n",
      "Epoch 11/100\n",
      "2/2 [==============================] - 0s 12ms/step - loss: 0.6651 - accuracy: 0.5000 - val_loss: 0.6639 - val_accuracy: 0.5500\n",
      "Epoch 12/100\n",
      "2/2 [==============================] - 0s 12ms/step - loss: 0.6567 - accuracy: 0.5263 - val_loss: 0.6564 - val_accuracy: 0.5500\n",
      "Epoch 13/100\n",
      "2/2 [==============================] - 0s 13ms/step - loss: 0.6461 - accuracy: 0.6053 - val_loss: 0.6466 - val_accuracy: 0.7000\n",
      "Epoch 14/100\n",
      "2/2 [==============================] - 0s 12ms/step - loss: 0.6327 - accuracy: 0.6842 - val_loss: 0.6337 - val_accuracy: 0.7500\n",
      "Epoch 15/100\n",
      "2/2 [==============================] - 0s 12ms/step - loss: 0.6147 - accuracy: 0.7368 - val_loss: 0.6173 - val_accuracy: 0.7500\n",
      "Epoch 16/100\n",
      "2/2 [==============================] - 0s 13ms/step - loss: 0.5956 - accuracy: 0.7368 - val_loss: 0.5980 - val_accuracy: 0.7500\n",
      "Epoch 17/100\n",
      "2/2 [==============================] - 0s 15ms/step - loss: 0.5716 - accuracy: 0.7105 - val_loss: 0.5722 - val_accuracy: 0.8000\n",
      "Epoch 18/100\n",
      "2/2 [==============================] - 0s 13ms/step - loss: 0.5385 - accuracy: 0.8684 - val_loss: 0.5414 - val_accuracy: 0.9000\n",
      "Epoch 19/100\n",
      "2/2 [==============================] - 0s 14ms/step - loss: 0.4932 - accuracy: 0.9737 - val_loss: 0.5228 - val_accuracy: 0.9000\n",
      "Epoch 20/100\n",
      "2/2 [==============================] - 0s 12ms/step - loss: 0.4609 - accuracy: 0.9474 - val_loss: 0.5074 - val_accuracy: 0.8000\n",
      "Epoch 21/100\n",
      "2/2 [==============================] - 0s 12ms/step - loss: 0.4232 - accuracy: 0.9474 - val_loss: 0.4426 - val_accuracy: 0.9000\n",
      "Epoch 22/100\n",
      "2/2 [==============================] - 0s 12ms/step - loss: 0.3677 - accuracy: 0.9474 - val_loss: 0.3824 - val_accuracy: 0.9500\n",
      "Epoch 23/100\n",
      "2/2 [==============================] - 0s 12ms/step - loss: 0.3075 - accuracy: 0.9737 - val_loss: 0.3480 - val_accuracy: 0.9000\n",
      "Epoch 24/100\n",
      "2/2 [==============================] - 0s 12ms/step - loss: 0.2609 - accuracy: 0.9737 - val_loss: 0.3255 - val_accuracy: 0.9000\n",
      "Epoch 25/100\n",
      "2/2 [==============================] - 0s 12ms/step - loss: 0.2154 - accuracy: 0.9737 - val_loss: 0.3217 - val_accuracy: 0.8500\n",
      "Epoch 26/100\n",
      "2/2 [==============================] - 0s 13ms/step - loss: 0.1794 - accuracy: 0.9474 - val_loss: 0.3493 - val_accuracy: 0.8000\n",
      "Epoch 27/100\n",
      "2/2 [==============================] - 0s 12ms/step - loss: 0.1600 - accuracy: 0.9474 - val_loss: 0.3466 - val_accuracy: 0.8000\n",
      "Epoch 28/100\n",
      "2/2 [==============================] - 0s 13ms/step - loss: 0.1303 - accuracy: 0.9474 - val_loss: 0.2315 - val_accuracy: 0.9500\n",
      "Epoch 29/100\n",
      "2/2 [==============================] - 0s 14ms/step - loss: 0.1047 - accuracy: 0.9737 - val_loss: 0.1969 - val_accuracy: 0.9500\n",
      "Epoch 30/100\n",
      "2/2 [==============================] - 0s 12ms/step - loss: 0.1444 - accuracy: 0.9737 - val_loss: 0.2256 - val_accuracy: 0.9500\n",
      "Epoch 31/100\n",
      "2/2 [==============================] - 0s 12ms/step - loss: 0.0701 - accuracy: 0.9737 - val_loss: 0.4263 - val_accuracy: 0.8000\n",
      "Epoch 32/100\n",
      "2/2 [==============================] - 0s 12ms/step - loss: 0.0890 - accuracy: 0.9737 - val_loss: 0.4362 - val_accuracy: 0.8000\n",
      "Epoch 33/100\n",
      "2/2 [==============================] - 0s 12ms/step - loss: 0.0777 - accuracy: 0.9737 - val_loss: 0.2660 - val_accuracy: 0.9000\n",
      "Epoch 34/100\n",
      "2/2 [==============================] - 0s 11ms/step - loss: 0.0405 - accuracy: 1.0000 - val_loss: 0.1707 - val_accuracy: 0.9500\n",
      "Epoch 35/100\n",
      "2/2 [==============================] - 0s 12ms/step - loss: 0.0519 - accuracy: 0.9737 - val_loss: 0.1543 - val_accuracy: 0.9500\n",
      "Epoch 36/100\n",
      "2/2 [==============================] - 0s 17ms/step - loss: 0.0521 - accuracy: 0.9737 - val_loss: 0.1977 - val_accuracy: 0.9500\n",
      "Epoch 37/100\n",
      "2/2 [==============================] - 0s 15ms/step - loss: 0.0300 - accuracy: 0.9737 - val_loss: 0.3165 - val_accuracy: 0.9000\n",
      "Epoch 38/100\n",
      "2/2 [==============================] - 0s 12ms/step - loss: 0.0226 - accuracy: 1.0000 - val_loss: 0.4302 - val_accuracy: 0.8500\n",
      "Epoch 39/100\n",
      "2/2 [==============================] - 0s 13ms/step - loss: 0.0300 - accuracy: 1.0000 - val_loss: 0.4017 - val_accuracy: 0.8500\n",
      "Epoch 40/100\n",
      "2/2 [==============================] - 0s 13ms/step - loss: 0.0209 - accuracy: 1.0000 - val_loss: 0.2996 - val_accuracy: 0.9000\n",
      "Epoch 41/100\n",
      "2/2 [==============================] - 0s 13ms/step - loss: 0.0118 - accuracy: 1.0000 - val_loss: 0.2336 - val_accuracy: 0.9500\n",
      "Epoch 42/100\n",
      "2/2 [==============================] - 0s 12ms/step - loss: 0.0093 - accuracy: 1.0000 - val_loss: 0.2028 - val_accuracy: 0.9500\n",
      "Epoch 43/100\n",
      "2/2 [==============================] - 0s 13ms/step - loss: 0.0088 - accuracy: 1.0000 - val_loss: 0.1943 - val_accuracy: 0.9500\n",
      "Epoch 44/100\n",
      "2/2 [==============================] - 0s 12ms/step - loss: 0.0078 - accuracy: 1.0000 - val_loss: 0.2009 - val_accuracy: 0.9500\n",
      "Epoch 45/100\n",
      "2/2 [==============================] - 0s 13ms/step - loss: 0.0060 - accuracy: 1.0000 - val_loss: 0.2243 - val_accuracy: 0.9500\n",
      "Epoch 46/100\n",
      "2/2 [==============================] - 0s 11ms/step - loss: 0.0040 - accuracy: 1.0000 - val_loss: 0.2523 - val_accuracy: 0.9500\n",
      "Epoch 47/100\n",
      "2/2 [==============================] - 0s 14ms/step - loss: 0.0025 - accuracy: 1.0000 - val_loss: 0.2929 - val_accuracy: 0.9500\n",
      "Epoch 48/100\n",
      "2/2 [==============================] - 0s 17ms/step - loss: 0.0020 - accuracy: 1.0000 - val_loss: 0.3590 - val_accuracy: 0.9000\n",
      "Epoch 49/100\n",
      "2/2 [==============================] - 0s 16ms/step - loss: 0.0018 - accuracy: 1.0000 - val_loss: 0.4131 - val_accuracy: 0.9000\n",
      "Epoch 50/100\n",
      "2/2 [==============================] - 0s 14ms/step - loss: 0.0018 - accuracy: 1.0000 - val_loss: 0.4382 - val_accuracy: 0.9000\n",
      "Epoch 51/100\n",
      "2/2 [==============================] - 0s 12ms/step - loss: 0.0016 - accuracy: 1.0000 - val_loss: 0.4015 - val_accuracy: 0.9000\n",
      "Epoch 52/100\n",
      "2/2 [==============================] - 0s 13ms/step - loss: 0.0011 - accuracy: 1.0000 - val_loss: 0.3352 - val_accuracy: 0.9500\n",
      "Epoch 53/100\n",
      "2/2 [==============================] - 0s 13ms/step - loss: 6.7664e-04 - accuracy: 1.0000 - val_loss: 0.2887 - val_accuracy: 0.9500\n",
      "Epoch 54/100\n",
      "2/2 [==============================] - 0s 13ms/step - loss: 6.0445e-04 - accuracy: 1.0000 - val_loss: 0.2554 - val_accuracy: 0.9500\n",
      "Epoch 55/100\n",
      "2/2 [==============================] - 0s 12ms/step - loss: 6.5262e-04 - accuracy: 1.0000 - val_loss: 0.2344 - val_accuracy: 0.9500\n",
      "Epoch 56/100\n",
      "2/2 [==============================] - 0s 12ms/step - loss: 7.3909e-04 - accuracy: 1.0000 - val_loss: 0.2241 - val_accuracy: 0.9500\n",
      "Epoch 57/100\n",
      "2/2 [==============================] - 0s 12ms/step - loss: 7.7530e-04 - accuracy: 1.0000 - val_loss: 0.2223 - val_accuracy: 0.9500\n",
      "Epoch 58/100\n",
      "2/2 [==============================] - 0s 12ms/step - loss: 7.4386e-04 - accuracy: 1.0000 - val_loss: 0.2274 - val_accuracy: 0.9500\n"
     ]
    },
    {
     "name": "stdout",
     "output_type": "stream",
     "text": [
      "Epoch 59/100\n",
      "2/2 [==============================] - 0s 12ms/step - loss: 6.5569e-04 - accuracy: 1.0000 - val_loss: 0.2385 - val_accuracy: 0.9500\n",
      "Epoch 60/100\n",
      "2/2 [==============================] - 0s 11ms/step - loss: 5.3747e-04 - accuracy: 1.0000 - val_loss: 0.2535 - val_accuracy: 0.9500\n",
      "Epoch 61/100\n",
      "2/2 [==============================] - 0s 12ms/step - loss: 3.9907e-04 - accuracy: 1.0000 - val_loss: 0.2767 - val_accuracy: 0.9500\n",
      "Epoch 62/100\n",
      "2/2 [==============================] - 0s 12ms/step - loss: 2.9322e-04 - accuracy: 1.0000 - val_loss: 0.3132 - val_accuracy: 0.9500\n",
      "Epoch 63/100\n",
      "2/2 [==============================] - 0s 11ms/step - loss: 2.6633e-04 - accuracy: 1.0000 - val_loss: 0.3525 - val_accuracy: 0.9500\n",
      "Epoch 64/100\n",
      "2/2 [==============================] - 0s 12ms/step - loss: 2.2685e-04 - accuracy: 1.0000 - val_loss: 0.3861 - val_accuracy: 0.9500\n",
      "Epoch 65/100\n",
      "2/2 [==============================] - 0s 11ms/step - loss: 2.3317e-04 - accuracy: 1.0000 - val_loss: 0.4112 - val_accuracy: 0.9000\n",
      "Epoch 66/100\n",
      "2/2 [==============================] - 0s 12ms/step - loss: 2.3496e-04 - accuracy: 1.0000 - val_loss: 0.4231 - val_accuracy: 0.9000\n",
      "Epoch 67/100\n",
      "2/2 [==============================] - 0s 12ms/step - loss: 2.3096e-04 - accuracy: 1.0000 - val_loss: 0.4218 - val_accuracy: 0.9000\n",
      "Epoch 68/100\n",
      "2/2 [==============================] - 0s 12ms/step - loss: 2.1123e-04 - accuracy: 1.0000 - val_loss: 0.4081 - val_accuracy: 0.9000\n",
      "Epoch 69/100\n",
      "2/2 [==============================] - 0s 12ms/step - loss: 1.9464e-04 - accuracy: 1.0000 - val_loss: 0.3897 - val_accuracy: 0.9500\n",
      "Epoch 70/100\n",
      "2/2 [==============================] - 0s 11ms/step - loss: 1.7606e-04 - accuracy: 1.0000 - val_loss: 0.3760 - val_accuracy: 0.9500\n",
      "Epoch 71/100\n",
      "2/2 [==============================] - 0s 11ms/step - loss: 1.6048e-04 - accuracy: 1.0000 - val_loss: 0.3669 - val_accuracy: 0.9500\n",
      "Epoch 72/100\n",
      "2/2 [==============================] - 0s 12ms/step - loss: 1.5227e-04 - accuracy: 1.0000 - val_loss: 0.3593 - val_accuracy: 0.9500\n",
      "Epoch 73/100\n",
      "2/2 [==============================] - 0s 12ms/step - loss: 1.4615e-04 - accuracy: 1.0000 - val_loss: 0.3537 - val_accuracy: 0.9500\n",
      "Epoch 74/100\n",
      "2/2 [==============================] - 0s 11ms/step - loss: 1.4055e-04 - accuracy: 1.0000 - val_loss: 0.3487 - val_accuracy: 0.9500\n",
      "Epoch 75/100\n",
      "2/2 [==============================] - 0s 12ms/step - loss: 1.3815e-04 - accuracy: 1.0000 - val_loss: 0.3434 - val_accuracy: 0.9500\n",
      "Epoch 76/100\n",
      "2/2 [==============================] - 0s 12ms/step - loss: 1.3632e-04 - accuracy: 1.0000 - val_loss: 0.3416 - val_accuracy: 0.9500\n",
      "Epoch 77/100\n",
      "2/2 [==============================] - 0s 13ms/step - loss: 1.3257e-04 - accuracy: 1.0000 - val_loss: 0.3434 - val_accuracy: 0.9500\n",
      "Epoch 78/100\n",
      "2/2 [==============================] - 0s 12ms/step - loss: 1.2903e-04 - accuracy: 1.0000 - val_loss: 0.3444 - val_accuracy: 0.9500\n",
      "Epoch 79/100\n",
      "2/2 [==============================] - 0s 11ms/step - loss: 1.2584e-04 - accuracy: 1.0000 - val_loss: 0.3448 - val_accuracy: 0.9500\n",
      "Epoch 80/100\n",
      "2/2 [==============================] - 0s 11ms/step - loss: 1.2263e-04 - accuracy: 1.0000 - val_loss: 0.3462 - val_accuracy: 0.9500\n",
      "Epoch 81/100\n",
      "2/2 [==============================] - 0s 12ms/step - loss: 1.1946e-04 - accuracy: 1.0000 - val_loss: 0.3511 - val_accuracy: 0.9500\n",
      "Epoch 82/100\n",
      "2/2 [==============================] - 0s 12ms/step - loss: 1.1650e-04 - accuracy: 1.0000 - val_loss: 0.3585 - val_accuracy: 0.9500\n",
      "Epoch 83/100\n",
      "2/2 [==============================] - 0s 12ms/step - loss: 1.1327e-04 - accuracy: 1.0000 - val_loss: 0.3647 - val_accuracy: 0.9500\n",
      "Epoch 84/100\n",
      "2/2 [==============================] - 0s 12ms/step - loss: 1.1034e-04 - accuracy: 1.0000 - val_loss: 0.3697 - val_accuracy: 0.9500\n",
      "Epoch 85/100\n",
      "2/2 [==============================] - 0s 12ms/step - loss: 1.0819e-04 - accuracy: 1.0000 - val_loss: 0.3743 - val_accuracy: 0.9500\n",
      "Epoch 86/100\n",
      "2/2 [==============================] - 0s 11ms/step - loss: 1.0646e-04 - accuracy: 1.0000 - val_loss: 0.3782 - val_accuracy: 0.9500\n",
      "Epoch 87/100\n",
      "2/2 [==============================] - 0s 11ms/step - loss: 1.0482e-04 - accuracy: 1.0000 - val_loss: 0.3814 - val_accuracy: 0.9500\n",
      "Epoch 88/100\n",
      "2/2 [==============================] - 0s 12ms/step - loss: 1.0307e-04 - accuracy: 1.0000 - val_loss: 0.3840 - val_accuracy: 0.9500\n",
      "Epoch 89/100\n",
      "2/2 [==============================] - 0s 12ms/step - loss: 1.0195e-04 - accuracy: 1.0000 - val_loss: 0.3856 - val_accuracy: 0.9500\n",
      "Epoch 90/100\n",
      "2/2 [==============================] - 0s 12ms/step - loss: 1.0010e-04 - accuracy: 1.0000 - val_loss: 0.3855 - val_accuracy: 0.9500\n",
      "Epoch 91/100\n",
      "2/2 [==============================] - 0s 12ms/step - loss: 9.8423e-05 - accuracy: 1.0000 - val_loss: 0.3838 - val_accuracy: 0.9500\n",
      "Epoch 92/100\n",
      "2/2 [==============================] - 0s 12ms/step - loss: 9.6384e-05 - accuracy: 1.0000 - val_loss: 0.3826 - val_accuracy: 0.9500\n",
      "Epoch 93/100\n",
      "2/2 [==============================] - 0s 11ms/step - loss: 9.4598e-05 - accuracy: 1.0000 - val_loss: 0.3819 - val_accuracy: 0.9500\n",
      "Epoch 94/100\n",
      "2/2 [==============================] - 0s 12ms/step - loss: 9.3007e-05 - accuracy: 1.0000 - val_loss: 0.3813 - val_accuracy: 0.9500\n",
      "Epoch 95/100\n",
      "2/2 [==============================] - 0s 12ms/step - loss: 9.1328e-05 - accuracy: 1.0000 - val_loss: 0.3798 - val_accuracy: 0.9500\n",
      "Epoch 96/100\n",
      "2/2 [==============================] - 0s 12ms/step - loss: 8.9845e-05 - accuracy: 1.0000 - val_loss: 0.3764 - val_accuracy: 0.9500\n",
      "Epoch 97/100\n",
      "2/2 [==============================] - 0s 12ms/step - loss: 8.8584e-05 - accuracy: 1.0000 - val_loss: 0.3729 - val_accuracy: 0.9500\n",
      "Epoch 98/100\n",
      "2/2 [==============================] - 0s 12ms/step - loss: 8.7218e-05 - accuracy: 1.0000 - val_loss: 0.3705 - val_accuracy: 0.9500\n",
      "Epoch 99/100\n",
      "2/2 [==============================] - 0s 12ms/step - loss: 8.6093e-05 - accuracy: 1.0000 - val_loss: 0.3688 - val_accuracy: 0.9500\n",
      "Epoch 100/100\n",
      "2/2 [==============================] - 0s 12ms/step - loss: 8.5037e-05 - accuracy: 1.0000 - val_loss: 0.3681 - val_accuracy: 0.9500\n"
     ]
    }
   ],
   "source": [
    "M = 50\n",
    "K = 1\n",
    "D = 50\n",
    "i = Input(shape=(T,))\n",
    "x = Embedding(V + 1, D)(i)\n",
    "# x = Bidirectional(tf.keras.layers.LSTM(M))(x)\n",
    "x = LSTM(M,return_sequences=True)(x)\n",
    "x = GlobalMaxPooling1D()(x)\n",
    "x = Dense(128, activation='relu')(x)\n",
    "x = Dense(K, activation='sigmoid')(x)\n",
    "\n",
    "model = Model(i, x)\n",
    "model.compile(loss='binary_crossentropy',\n",
    "              optimizer=Adam(lr=0.001), metrics=[\"accuracy\"])\n",
    "r = model.fit(x_train, y_train, validation_data=(\n",
    "    x_test, y_test), epochs=100)\n"
   ]
  },
  {
   "cell_type": "code",
   "execution_count": 203,
   "metadata": {},
   "outputs": [
    {
     "data": {
      "image/png": "[encoded data removed]",
      "text/plain": [
       "<Figure size 432x288 with 1 Axes>"
      ]
     },
     "metadata": {
      "needs_background": "light"
     },
     "output_type": "display_data"
    }
   ],
   "source": [
    "plt.plot(r.history[\"loss\"], label=\"loss\")\n",
    "plt.plot(r.history[\"val_loss\"], label=\"val_loss\")\n",
    "plt.legend()\n",
    "plt.show()"
   ]
  },
  {
   "cell_type": "code",
   "execution_count": 204,
   "metadata": {},
   "outputs": [
    {
     "data": {
      "image/png": "[encoded data removed]",
      "text/plain": [
       "<Figure size 432x288 with 1 Axes>"
      ]
     },
     "metadata": {
      "needs_background": "light"
     },
     "output_type": "display_data"
    }
   ],
   "source": [
    "plt.plot(r.history[\"accuracy\"], label=\"accuracy\")\n",
    "plt.plot(r.history[\"val_accuracy\"], label=\"val_laccuracy\")\n",
    "plt.legend()\n",
    "plt.show()"
   ]
  },
  {
   "cell_type": "code",
   "execution_count": null,
   "metadata": {},
   "outputs": [],
   "source": []
  },
  {
   "cell_type": "code",
   "execution_count": 223,
   "metadata": {},
   "outputs": [
    {
     "name": "stdout",
     "output_type": "stream",
     "text": [
      "Total this task Total this Invoice Total this Phase Invoice\n",
      "[[0 0 0 0 0 0 3 8 1 3 8 5 3 8 1 5]]\n",
      "[[1.3863987e-06]]\n"
     ]
    }
   ],
   "source": [
    "text = [\"Total this task Total this Invoice Total this Phase Invoice\"]\n",
    "for text in text[0].split(\",\"):\n",
    "    print(text)\n",
    "    text = [text]\n",
    "    sequence_train = tokenizer.texts_to_sequences(text)\n",
    "    sequence_train = pad_sequences(sequence_train, maxlen=T)\n",
    "    print(sequence_train)\n",
    "    pred = model.predict(sequence_train)\n",
    "    print(pred)"
   ]
  },
  {
   "cell_type": "code",
   "execution_count": 228,
   "metadata": {},
   "outputs": [
    {
     "name": "stdout",
     "output_type": "stream",
     "text": [
      "['Gross Amount This Invoice Total Amount Due This Invoice Total Work Completed to Date, Invoice Number: invoice Due Date: Total Due:,']\n",
      "[[ 2  7  8  5  3 18 19 20  6  5  4  5  7  6  3  7]]\n",
      "[[1.3294281e-06]]\n"
     ]
    }
   ],
   "source": [
    "text = [\"Gross Amount This Invoice Total Amount Due This Invoice Total Work Completed to Date, Invoice Number: invoice Due Date: Total Due:,\"]\n",
    "print(text)\n",
    "text = remove_punctuations(text)\n",
    "sequence_train = tokenizer.texts_to_sequences(text)\n",
    "sequence_train = pad_sequences(sequence_train, maxlen=T)\n",
    "print(sequence_train)\n",
    "pred = model.predict(sequence_train)\n",
    "print(pred)"
   ]
  },
  {
   "cell_type": "code",
   "execution_count": null,
   "metadata": {},
   "outputs": [],
   "source": []
  }
 ],
 "metadata": {
  "kernelspec": {
   "display_name": "Python 3",
   "language": "python",
   "name": "python3"
  },
  "language_info": {
   "codemirror_mode": {
    "name": "ipython",
    "version": 3
   },
   "file_extension": ".py",
   "mimetype": "text/x-python",
   "name": "python",
   "nbconvert_exporter": "python",
   "pygments_lexer": "ipython3",
   "version": "3.7.4"
  }
 },
 "nbformat": 4,
 "nbformat_minor": 2
}
